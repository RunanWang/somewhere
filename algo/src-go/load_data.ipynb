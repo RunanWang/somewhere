{
 "cells": [
  {
   "cell_type": "code",
   "execution_count": 1,
   "metadata": {
    "collapsed": true
   },
   "outputs": [],
   "source": [
    "import pymongo\n",
    "\n",
    "myclient = pymongo.MongoClient(\"mongodb://182.92.196.182:27017/\")\n",
    "mydb = myclient[\"kit\"]\n",
    "rec_col = mydb[\"records\"]\n",
    "item_col = mydb[\"items\"]\n",
    "user_col = mydb[\"users\"]\n",
    "store_col = mydb[\"stores\"]\n",
    "records = rec_col.find({},{\"_id\":0, \"query\":0})\n",
    "items = item_col.find()\n",
    "users = user_col.find()\n",
    "stores = store_col.find()\n",
    "# for item in stores:\n",
    "#     print(item)"
   ]
  },
  {
   "cell_type": "code",
   "execution_count": 2,
   "metadata": {
    "collapsed": true
   },
   "outputs": [],
   "source": [
    "import pandas as pd\n",
    "df_rec = pd.DataFrame(list(records))\n",
    "df_item = pd.DataFrame(list(items))\n",
    "df_user = pd.DataFrame(list(users))\n",
    "df_store = pd.DataFrame(list(stores))\n",
    "# print(df_rec)\n",
    "# print(df_item)\n",
    "# print(df_user)\n",
    "# print(df_store)"
   ]
  },
  {
   "cell_type": "code",
   "execution_count": 3,
   "metadata": {
    "collapsed": true
   },
   "outputs": [],
   "source": [
    "# print(df_rec)\n",
    "df_item = df_item.rename(columns={'_id':'item_id'})\n",
    "df_item.set_index(['item_id'],inplace=True)\n",
    "# print(df_item)\n",
    "df_user = df_user.rename(columns={'_id':'user_id'})\n",
    "df_user.set_index(['user_id'],inplace=True)\n",
    "df_store = df_store.rename(columns={'_id':'store_id'})\n",
    "df_store.set_index(['store_id'],inplace=True)"
   ]
  },
  {
   "cell_type": "code",
   "execution_count": 5,
   "metadata": {},
   "outputs": [
    {
     "name": "stdout",
     "output_type": "stream",
     "text": [
      "                   store_id                   user_id  \\\n",
      "0  5dfb31c39156001541b46d73  5df9e1fe91560048ad6fb730   \n",
      "1  5dfb31c39156001541b46d73  5df9e1fe91560048ad6fb730   \n",
      "2  5dfb31c39156001541b46d73  5df9e1fe91560048ad6fb730   \n",
      "3  5dfb317f9156001541b46d71  5df9e1fe91560048ad6fb730   \n",
      "4  5dfb31c39156001541b46d73  5df9e2e191560048ad6fb734   \n",
      "\n",
      "                    item_id  is_trade   timestamp item_brand item_name  \\\n",
      "0  5dfc7cb091560021ad5dee36         0  1582601753        哇哈哈       矿泉水   \n",
      "1  5dfc7cb091560021ad5dee36         0  1582602044        哇哈哈       矿泉水   \n",
      "2  5dfc7cb091560021ad5dee36         1  1582602047        哇哈哈       矿泉水   \n",
      "3  5dfc7cd791560021ad5dee37         0  1582602051         清风       餐巾纸   \n",
      "4  5dfc7cb091560021ad5dee36         0  1582602082        哇哈哈       矿泉水   \n",
      "\n",
      "   item_price  item_salecount  item_score     ...      user_city user_gender  \\\n",
      "0         2.0            2000        4.91     ...             安徽           1   \n",
      "1         2.0            2000        4.91     ...             安徽           1   \n",
      "2         2.0            2000        4.91     ...             安徽           1   \n",
      "3         1.0               0        5.00     ...             安徽           1   \n",
      "4         2.0            2000        4.91     ...             重庆           2   \n",
      "\n",
      "   user_historysum user_name  user_timestamp       name store_city  \\\n",
      "0              0.0     测试员二号      1576657406  testshop2         拉萨   \n",
      "1              0.0     测试员二号      1576657406  testshop2         拉萨   \n",
      "2              0.0     测试员二号      1576657406  testshop2         拉萨   \n",
      "3              0.0     测试员二号      1576657406   testshop         长春   \n",
      "4              0.0        一号      1576657633  testshop2         拉萨   \n",
      "\n",
      "   store_level store_name   timestamp  \n",
      "0          3.0       测试店铺  1576743363  \n",
      "1          3.0       测试店铺  1576743363  \n",
      "2          3.0       测试店铺  1576743363  \n",
      "3          5.0       素云满湖  1576743295  \n",
      "4          3.0       测试店铺  1576743363  \n",
      "\n",
      "[5 rows x 23 columns]\n"
     ]
    }
   ],
   "source": [
    "df_result = df_rec.set_index(['item_id'])\n",
    "df_result = pd.concat([df_result, df_item], axis = 1, join='inner')\n",
    "df_result = df_result.reset_index()\n",
    "# print(df_result)\n",
    "df_result.set_index(['user_id'],inplace=True)\n",
    "# print(df_result)\n",
    "df_result = pd.concat([df_result, df_user], axis = 1, join='inner')\n",
    "df_result = df_result.reset_index()\n",
    "# print(df_user)\n",
    "# print(df_result)\n",
    "df_result.set_index(['store_id'],inplace=True)\n",
    "df_result = pd.concat([df_result, df_store], axis = 1, join='inner')\n",
    "df_result = df_result.reset_index()\n",
    "# df_result.drop(['item_id'])\n",
    "print(df_result)"
   ]
  },
  {
   "cell_type": "code",
   "execution_count": null,
   "metadata": {},
   "outputs": [],
   "source": []
  }
 ],
 "metadata": {
  "kernelspec": {
   "display_name": "Python 3",
   "language": "python",
   "name": "python3"
  },
  "language_info": {
   "codemirror_mode": {
    "name": "ipython",
    "version": 3
   },
   "file_extension": ".py",
   "mimetype": "text/x-python",
   "name": "python",
   "nbconvert_exporter": "python",
   "pygments_lexer": "ipython3",
   "version": "3.7.3"
  }
 },
 "nbformat": 4,
 "nbformat_minor": 2
}
